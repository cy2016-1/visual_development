{
 "cells": [
  {
   "cell_type": "code",
   "execution_count": null,
   "id": "17dd5bd9-e9fd-4cc2-a1fd-441cfeebeac6",
   "metadata": {},
   "outputs": [],
   "source": [
    "import cv2 as cv\n",
    "import numpy as np\n",
    "\n",
    "cap = cv.VideoCapture(1)\n",
    "while True:\n",
    "    # 读取图像\n",
    "    ret,frame = cap.read()\n",
    "    gray = cv.cvtColor(frame,cv.COLOR_BGR2GRAY) # 灰度图\n",
    "    _,thresh = cv.threshold(gray,0,255,cv.THRESH_BINARY_INV+cv.THRESH_OTSU) # 图像阈值\n",
    "    kernel = cv.getStructuringElement(cv.MORPH_RECT,(5,5)) # 卷积核\n",
    "    opening = cv.morphologyEx(thresh,cv.MORPH_OPEN,kernel) # 图像开运算，去除噪点\n",
    "    contours,hierarchy = cv.findContours(thresh,3,2) # 查找轮廓\n",
    "    img = np.copy(frame)\n",
    "    for cnt in contours:\n",
    "        area = cv.contourArea(cnt) # 面积\n",
    "        perimeter = cv.arcLength(cnt,True) # 周长\n",
    "        # 面积筛选\n",
    "        if area > 4000 and area < 20000:\n",
    "            cv.drawContours(img,[cnt],0,(0,0,255),5) # 画出轮廓\n",
    "            # 获得质心\n",
    "            M = cv.moments(cnt)\n",
    "            cx = int(M['m10']/M['m00'])\n",
    "            cy = int(M['m01']/M['m00'])\n",
    "            # 多边形逼近，获得角点判断形状\n",
    "            approx = cv.approxPolyDP(cnt,0.02*perimeter,True)\n",
    "            if len(approx) == 4:\n",
    "                text = 'rectangle'\n",
    "            elif len(approx) == 5:\n",
    "                text = 'pentagon'\n",
    "            elif len(approx) == 3:\n",
    "                text = 'triangle'\n",
    "            elif len(approx) == 8:\n",
    "                text = 'circle'\n",
    "            else:\n",
    "                text = 'None'\n",
    "            cv.putText(img,text,(cx,cy),cv.FONT_HERSHEY_SIMPLEX,1,(0,255,0),2,cv.LINE_AA)\n",
    "    cv.imshow('image',img)\n",
    "    if cv.waitKey(1) == ord('q'):\n",
    "        break\n",
    "cap.release()\n",
    "cv.destroyAllWindows()"
   ]
  },
  {
   "cell_type": "code",
   "execution_count": null,
   "id": "310195e8-3b43-473b-ac42-c5d2655471cb",
   "metadata": {},
   "outputs": [],
   "source": []
  }
 ],
 "metadata": {
  "kernelspec": {
   "display_name": "Python 3",
   "language": "python",
   "name": "python3"
  },
  "language_info": {
   "codemirror_mode": {
    "name": "ipython",
    "version": 3
   },
   "file_extension": ".py",
   "mimetype": "text/x-python",
   "name": "python",
   "nbconvert_exporter": "python",
   "pygments_lexer": "ipython3",
   "version": "3.8.10"
  }
 },
 "nbformat": 4,
 "nbformat_minor": 5
}
