{
 "cells": [
  {
   "cell_type": "markdown",
   "id": "91186d19-5145-4702-8de5-60abcfdbf4ee",
   "metadata": {},
   "source": [
    "# 什么是OpenCV\n",
    "OpenCV是一个开源的计算机视觉库，OpenCV采用C/C++语言编写，可以在Linux、Windows、Mac等操作系统上运行。OpenCV支持多种编程语言，例如C++、Python、Java等。\n",
    "OpenCV的目标之一是构建一个简答易用的计算机框架，以帮助开发人员更便捷地设计更复杂的计算机视觉相关应用。OpenCV包含的函数有500多个，覆盖了计算机视觉诸多应用领域，如工厂产品检测、医学成像、信息安全、用户界面、摄像机标定、立体视觉和机器人等。因为计算机视觉和机器学习密切相关，所以OpenCV还提供了机器学习库。"
   ]
  },
  {
   "cell_type": "markdown",
   "id": "2e060a5f-6c14-4f1b-b908-4e94a6a3d590",
   "metadata": {},
   "source": [
    "## OpenCV-python\n",
    "OpenCV是计算机视觉中经典的专用库，其支持多语言、跨平台、功能强大。与C/C++相比，python的速度更慢。OpenCV-python中的Python接口，使得使用者在Python中能够调用C/C++拓展，在保证易读性和运行效率的前提下，实现所需的功能。\n",
    "OpenCV-Python使用Numpy，这是一个高度优化的库，用于使用MATLAB样式的语法进行数值运算。所有 OpenCV 数组结构都与 Numpy 数组相互转换。这也使得与其他使用Numpy的库（如SciPy和Matplotlib）集成变得更加容易。"
   ]
  },
  {
   "attachments": {},
   "cell_type": "markdown",
   "id": "92b2b4cc-412c-42a6-ac14-09691e80e382",
   "metadata": {},
   "source": [
    "# 数字图像概述\n",
    "数字图像，又称数码图像或数位图像，是二维图像用有限数字数值像素的表示。由数组或矩阵表示，其光照位置和强度都是离散的。数字图像是由模拟图像数字化得到的、以像素为基本元素的、可以用数字计算机或数字电路存储和处理的图像。\n",
    "\n",
    "![](images/2023-08-11-15-02-50.png)\n",
    "\n",
    "像素（或像元，Pixel）是数字图像的基本元素。像素是在模拟图像数字化时对连续空间进行离散化得到的。每个像素具有整数行（高）和列（宽）位置坐标，同时每个像素都具有整数灰度值或颜色值。\n",
    "一般数字图像可以分为二值（黑白）图像、灰度图像、彩色图像三类。\n",
    "图像的坐标原点是在左上角，所以行对应的是y，列对应的是x：\n",
    "\n",
    "![](images/2023-08-11-15-03-33.png)\n",
    "\n",
    "##  二值（黑白）图像\n",
    "黑白图像是指图像的每个像素不是黑(0)就是白(1)，其灰度值没有中间过渡的图像。\n",
    "\n",
    "![](images/2023-08-11-15-03-56.png)\n",
    "\n",
    "## 灰度图像\n",
    "灰度图像是指每个像素的信息由一个量化的灰度级来描述数字图像，灰度图像中不包含彩色信息。标准灰度图像中每个图像的灰度值用一个字节表示，灰度级为 256 级，每个像素可以和 0～255（从黑到白）之间的任何一个值。图像从黑色到白色过渡时每种灰色代表一种灰度级(L)。 \n",
    "\n",
    "![](images/2023-08-11-15-04-07.png)\n",
    "\n",
    "## 彩色图像\n",
    "彩色图像是根据三基色成像原理来实现对自然界中的色彩描述的。三基色原理认为自然界中的所有颜色都是由红、绿、蓝三基色合成的。如果三基色的灰度值分别用一个字节表示，则三基色之间不同的灰度值组合可以形成不同的颜色。 \n",
    "\n",
    "![](images/2023-08-11-15-04-20.png)"
   ]
  }
 ],
 "metadata": {
  "kernelspec": {
   "display_name": "Python 3",
   "language": "python",
   "name": "python3"
  },
  "language_info": {
   "codemirror_mode": {
    "name": "ipython",
    "version": 3
   },
   "file_extension": ".py",
   "mimetype": "text/x-python",
   "name": "python",
   "nbconvert_exporter": "python",
   "pygments_lexer": "ipython3",
   "version": "3.8.10"
  }
 },
 "nbformat": 4,
 "nbformat_minor": 5
}
